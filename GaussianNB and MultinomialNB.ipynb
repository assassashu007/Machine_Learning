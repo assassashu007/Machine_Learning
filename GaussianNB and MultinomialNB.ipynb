{
 "cells": [
  {
   "cell_type": "code",
   "execution_count": null,
   "metadata": {},
   "outputs": [],
   "source": [
    "Q.1- What is the probability of a person playing when the weather is sunny? Find P(Yes|Sunny).\n",
    "\n",
    "    Weather\tPlay\n",
    "    Sunny\tNo\n",
    "    Overcast\tYes\n",
    "    Rainy\tYes\n",
    "    Sunny\tYes\n",
    "    Sunny\tYes\n",
    "    Overcast\tYes\n",
    "    Rainy\tNo\n",
    "    Rainy\tNo\n",
    "    Sunny\tYes\n",
    "    Rainy\tYes\n",
    "    Sunny\tNo\n",
    "    Overcast\tYes\n",
    "    Overcast\tYes\n",
    "    Rainy\tNo \n",
    "    \n",
    "A.  Bayes Theoram says that :\n",
    "    \n",
    "        P(Yes|Sunny) =  P(Sunny|Yes) * P(Yes)\n",
    "                       -----------------------\n",
    "                              P(Sunny)\n",
    "        \n",
    "        Now:  P(Yes)       = 9/14\n",
    "              P(Sunny)     = 5/14\n",
    "              P(Sunny|Yes) = 3/14\n",
    "            \n",
    "        On solving we get:  P(Yes|Sunny) = 3/5"
   ]
  },
  {
   "cell_type": "code",
   "execution_count": 1,
   "metadata": {},
   "outputs": [],
   "source": [
    "from sklearn.datasets import load_iris\n",
    "\n",
    "iris = load_iris()\n",
    "\n",
    "X = iris.data\n",
    "Y = iris.target"
   ]
  },
  {
   "cell_type": "code",
   "execution_count": 2,
   "metadata": {},
   "outputs": [],
   "source": [
    "from sklearn.model_selection import train_test_split\n",
    "\n",
    "x_train, x_test, y_train, y_test = train_test_split(X, Y, test_size=0.2)"
   ]
  },
  {
   "cell_type": "code",
   "execution_count": 5,
   "metadata": {},
   "outputs": [],
   "source": [
    "#Performing Gaussian Naive Bayes\n",
    "from sklearn.naive_bayes import GaussianNB\n",
    "model1 = GaussianNB()\n",
    "\n",
    "model1.fit(x_train, y_train)\n",
    "\n",
    "pred1 = model1.predict(x_test)"
   ]
  },
  {
   "cell_type": "code",
   "execution_count": 6,
   "metadata": {},
   "outputs": [],
   "source": [
    "#performing Multinomial Naive Bayes\n",
    "from sklearn.naive_bayes import MultinomialNB\n",
    "model2 = MultinomialNB()\n",
    "\n",
    "model2.fit(x_train, y_train)\n",
    "\n",
    "pred2 = model2.predict(x_test)"
   ]
  },
  {
   "cell_type": "code",
   "execution_count": 7,
   "metadata": {},
   "outputs": [
    {
     "data": {
      "text/plain": [
       "0.9666666666666667"
      ]
     },
     "execution_count": 7,
     "metadata": {},
     "output_type": "execute_result"
    }
   ],
   "source": [
    "#Accuracy Score for Gaussian model\n",
    "from sklearn import metrics\n",
    "\n",
    "metrics.accuracy_score(y_test, pred1)"
   ]
  },
  {
   "cell_type": "code",
   "execution_count": 8,
   "metadata": {},
   "outputs": [
    {
     "name": "stdout",
     "output_type": "stream",
     "text": [
      "             precision    recall  f1-score   support\n",
      "\n",
      "          0       1.00      1.00      1.00        11\n",
      "          1       0.86      1.00      0.92         6\n",
      "          2       1.00      0.92      0.96        13\n",
      "\n",
      "avg / total       0.97      0.97      0.97        30\n",
      "\n"
     ]
    }
   ],
   "source": [
    "#Classification Report for Gaussian model\n",
    "\n",
    "print(metrics.classification_report(y_test, pred1))"
   ]
  },
  {
   "cell_type": "code",
   "execution_count": 9,
   "metadata": {},
   "outputs": [
    {
     "name": "stdout",
     "output_type": "stream",
     "text": [
      "[[11  0  0]\n",
      " [ 0  6  0]\n",
      " [ 0  1 12]]\n"
     ]
    }
   ],
   "source": [
    "#Confusion Matrics for Gaussian model\n",
    "\n",
    "print(metrics.confusion_matrix(y_test, pred1))"
   ]
  },
  {
   "cell_type": "code",
   "execution_count": 10,
   "metadata": {},
   "outputs": [
    {
     "data": {
      "text/plain": [
       "0.6"
      ]
     },
     "execution_count": 10,
     "metadata": {},
     "output_type": "execute_result"
    }
   ],
   "source": [
    "#Accuracy Score for Multinomial model\n",
    "from sklearn import metrics\n",
    "\n",
    "metrics.accuracy_score(y_test, pred2)"
   ]
  },
  {
   "cell_type": "code",
   "execution_count": 11,
   "metadata": {},
   "outputs": [
    {
     "name": "stdout",
     "output_type": "stream",
     "text": [
      "             precision    recall  f1-score   support\n",
      "\n",
      "          0       1.00      1.00      1.00        11\n",
      "          1       0.33      1.00      0.50         6\n",
      "          2       1.00      0.08      0.14        13\n",
      "\n",
      "avg / total       0.87      0.60      0.53        30\n",
      "\n"
     ]
    }
   ],
   "source": [
    "#Classification Report for Multinomial model\n",
    "\n",
    "print(metrics.classification_report(y_test, pred2))"
   ]
  },
  {
   "cell_type": "code",
   "execution_count": 12,
   "metadata": {},
   "outputs": [
    {
     "name": "stdout",
     "output_type": "stream",
     "text": [
      "[[11  0  0]\n",
      " [ 0  6  0]\n",
      " [ 0 12  1]]\n"
     ]
    }
   ],
   "source": [
    "#Confusion Matrics for Multinomial model\n",
    "\n",
    "print(metrics.confusion_matrix(y_test, pred2))"
   ]
  },
  {
   "cell_type": "code",
   "execution_count": null,
   "metadata": {},
   "outputs": [],
   "source": []
  }
 ],
 "metadata": {
  "kernelspec": {
   "display_name": "Python 3",
   "language": "python",
   "name": "python3"
  },
  "language_info": {
   "codemirror_mode": {
    "name": "ipython",
    "version": 3
   },
   "file_extension": ".py",
   "mimetype": "text/x-python",
   "name": "python",
   "nbconvert_exporter": "python",
   "pygments_lexer": "ipython3",
   "version": "3.6.5"
  }
 },
 "nbformat": 4,
 "nbformat_minor": 2
}
