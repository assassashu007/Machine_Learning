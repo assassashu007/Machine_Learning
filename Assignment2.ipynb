{
 "cells": [
  {
   "cell_type": "code",
   "execution_count": 38,
   "metadata": {},
   "outputs": [
    {
     "data": {
      "text/plain": [
       "array([[0.46898012],\n",
       "       [0.49115457],\n",
       "       [0.42406399],\n",
       "       [0.15267415],\n",
       "       [0.57298269],\n",
       "       [0.50060687],\n",
       "       [0.22226915],\n",
       "       [0.04628987],\n",
       "       [0.0918535 ],\n",
       "       [0.64839173]])"
      ]
     },
     "execution_count": 38,
     "metadata": {},
     "output_type": "execute_result"
    }
   ],
   "source": [
    "#Question 1 :\n",
    "import numpy as np\n",
    "a1 = np.random.random((10,1))\n",
    "a1\n"
   ]
  },
  {
   "cell_type": "code",
   "execution_count": 39,
   "metadata": {},
   "outputs": [
    {
     "data": {
      "text/plain": [
       "0.3619266643546177"
      ]
     },
     "execution_count": 39,
     "metadata": {},
     "output_type": "execute_result"
    }
   ],
   "source": [
    "a1.mean()"
   ]
  },
  {
   "cell_type": "code",
   "execution_count": 40,
   "metadata": {},
   "outputs": [
    {
     "data": {
      "text/plain": [
       "array([[0.05500327],\n",
       "       [0.85853945],\n",
       "       [0.66615537],\n",
       "       [0.72756744],\n",
       "       [0.84546947],\n",
       "       [0.97832248],\n",
       "       [0.1588229 ],\n",
       "       [0.49703465],\n",
       "       [0.59115034],\n",
       "       [0.36068256],\n",
       "       [0.14293941],\n",
       "       [0.15958779],\n",
       "       [0.07335388],\n",
       "       [0.32522307],\n",
       "       [0.73838385],\n",
       "       [0.19359777],\n",
       "       [0.9978634 ],\n",
       "       [0.73896479],\n",
       "       [0.068231  ],\n",
       "       [0.08198977]])"
      ]
     },
     "execution_count": 40,
     "metadata": {},
     "output_type": "execute_result"
    }
   ],
   "source": [
    "#Question 2:\n",
    "a2 =np.random.random((20,1))\n",
    "a2"
   ]
  },
  {
   "cell_type": "code",
   "execution_count": 41,
   "metadata": {},
   "outputs": [
    {
     "data": {
      "text/plain": [
       "array([[0.46294413],\n",
       "       [0.46294413],\n",
       "       [0.46294413],\n",
       "       [0.46294413],\n",
       "       [0.46294413],\n",
       "       [0.46294413],\n",
       "       [0.46294413],\n",
       "       [0.46294413],\n",
       "       [0.46294413],\n",
       "       [0.46294413],\n",
       "       [0.46294413],\n",
       "       [0.46294413],\n",
       "       [0.46294413],\n",
       "       [0.46294413],\n",
       "       [0.46294413],\n",
       "       [0.46294413],\n",
       "       [0.46294413],\n",
       "       [0.46294413],\n",
       "       [0.46294413],\n",
       "       [0.46294413]])"
      ]
     },
     "execution_count": 41,
     "metadata": {},
     "output_type": "execute_result"
    }
   ],
   "source": [
    "a2_mean = a2.mean()\n",
    "mean_array = np.full((20,1),a2_mean)\n",
    "mean_array"
   ]
  },
  {
   "cell_type": "code",
   "execution_count": 42,
   "metadata": {},
   "outputs": [
    {
     "data": {
      "text/plain": [
       "array([[-0.40794086],\n",
       "       [ 0.39559532],\n",
       "       [ 0.20321124],\n",
       "       [ 0.26462331],\n",
       "       [ 0.38252534],\n",
       "       [ 0.51537835],\n",
       "       [-0.30412123],\n",
       "       [ 0.03409051],\n",
       "       [ 0.12820621],\n",
       "       [-0.10226157],\n",
       "       [-0.32000472],\n",
       "       [-0.30335634],\n",
       "       [-0.38959025],\n",
       "       [-0.13772106],\n",
       "       [ 0.27543972],\n",
       "       [-0.26934637],\n",
       "       [ 0.53491926],\n",
       "       [ 0.27602065],\n",
       "       [-0.39471313],\n",
       "       [-0.38095437]])"
      ]
     },
     "execution_count": 42,
     "metadata": {},
     "output_type": "execute_result"
    }
   ],
   "source": [
    "mid = np.subtract(a2,mean_array)\n",
    "mid"
   ]
  },
  {
   "cell_type": "code",
   "execution_count": 45,
   "metadata": {},
   "outputs": [
    {
     "data": {
      "text/plain": [
       "array([[0.16641575],\n",
       "       [0.15649566],\n",
       "       [0.04129481],\n",
       "       [0.0700255 ],\n",
       "       [0.14632564],\n",
       "       [0.26561484],\n",
       "       [0.09248972],\n",
       "       [0.00116216],\n",
       "       [0.01643683],\n",
       "       [0.01045743],\n",
       "       [0.10240302],\n",
       "       [0.09202507],\n",
       "       [0.15178056],\n",
       "       [0.01896709],\n",
       "       [0.07586704],\n",
       "       [0.07254746],\n",
       "       [0.28613862],\n",
       "       [0.0761874 ],\n",
       "       [0.15579845],\n",
       "       [0.14512623]])"
      ]
     },
     "execution_count": 45,
     "metadata": {},
     "output_type": "execute_result"
    }
   ],
   "source": [
    "z = np.power(mid,2)\n",
    "z"
   ]
  },
  {
   "cell_type": "code",
   "execution_count": 66,
   "metadata": {},
   "outputs": [
    {
     "data": {
      "text/plain": [
       "2.1435592804859946"
      ]
     },
     "execution_count": 66,
     "metadata": {},
     "output_type": "execute_result"
    }
   ],
   "source": [
    "variance = 0\n",
    "for i in z:\n",
    "    variance+= float(i)\n",
    "variance"
   ]
  },
  {
   "cell_type": "code",
   "execution_count": 67,
   "metadata": {},
   "outputs": [
    {
     "data": {
      "text/plain": [
       "1.4640899154375713"
      ]
     },
     "execution_count": 67,
     "metadata": {},
     "output_type": "execute_result"
    }
   ],
   "source": [
    "deviation= np.power(variance,0.5)\n",
    "deviation"
   ]
  },
  {
   "cell_type": "code",
   "execution_count": 78,
   "metadata": {
    "scrolled": true
   },
   "outputs": [
    {
     "data": {
      "text/plain": [
       "array([[0.75424193],\n",
       "       [0.62011021],\n",
       "       [0.05007887],\n",
       "       [0.16463892],\n",
       "       [0.73697544],\n",
       "       [0.49514754],\n",
       "       [0.78520934],\n",
       "       [0.60393661],\n",
       "       [0.21786399],\n",
       "       [0.25277773]])"
      ]
     },
     "execution_count": 78,
     "metadata": {},
     "output_type": "execute_result"
    }
   ],
   "source": [
    "#Question 3:\n",
    "arrayA= np.random.random((10,20))\n",
    "arrayB= np.random.random((20,25))\n",
    "arrayA\n",
    "arrayB"
   ]
  },
  {
   "cell_type": "code",
   "execution_count": 82,
   "metadata": {},
   "outputs": [
    {
     "data": {
      "text/plain": [
       "(10, 25)"
      ]
     },
     "execution_count": 82,
     "metadata": {},
     "output_type": "execute_result"
    }
   ],
   "source": [
    "sum = 0\n",
    "multiply = np.dot(arrayA, arrayB)\n",
    "multiply.shape"
   ]
  },
  {
   "cell_type": "code",
   "execution_count": 92,
   "metadata": {},
   "outputs": [
    {
     "data": {
      "text/plain": [
       "array([ 1,  2,  3,  4,  5,  6,  7,  8,  9, 10])"
      ]
     },
     "execution_count": 92,
     "metadata": {},
     "output_type": "execute_result"
    }
   ],
   "source": [
    "#Question 4:\n",
    "arrayC= np.array([1,2,3,4,5,6,7,8,9,10])\n",
    "arrayC"
   ]
  },
  {
   "cell_type": "code",
   "execution_count": 91,
   "metadata": {},
   "outputs": [
    {
     "data": {
      "text/plain": [
       "array([0.73105858, 0.88079708, 0.95257413, 0.98201379, 0.99330715,\n",
       "       0.99752738, 0.99908895, 0.99966465, 0.99987661, 0.9999546 ])"
      ]
     },
     "execution_count": 91,
     "metadata": {},
     "output_type": "execute_result"
    }
   ],
   "source": [
    "listA= []\n",
    "for i in arrayC:\n",
    "    listA.append(1 / (1 + np.exp(-i)))\n",
    "newarray= np.array(listA)\n",
    "newarray"
   ]
  },
  {
   "cell_type": "code",
   "execution_count": null,
   "metadata": {},
   "outputs": [],
   "source": []
  }
 ],
 "metadata": {
  "kernelspec": {
   "display_name": "Python 3",
   "language": "python",
   "name": "python3"
  },
  "language_info": {
   "codemirror_mode": {
    "name": "ipython",
    "version": 3
   },
   "file_extension": ".py",
   "mimetype": "text/x-python",
   "name": "python",
   "nbconvert_exporter": "python",
   "pygments_lexer": "ipython3",
   "version": "3.6.5"
  }
 },
 "nbformat": 4,
 "nbformat_minor": 2
}
