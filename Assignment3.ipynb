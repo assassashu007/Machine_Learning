{
 "cells": [
  {
   "cell_type": "code",
   "execution_count": 13,
   "metadata": {},
   "outputs": [
    {
     "data": {
      "text/plain": [
       "0.0303030303030303"
      ]
     },
     "execution_count": 13,
     "metadata": {},
     "output_type": "execute_result"
    }
   ],
   "source": [
    "#Question 1:\n",
    "pa =float(11 / 36)\n",
    "pb =float(6 / 36)\n",
    "pab=float(2 / 36)\n",
    "\n",
    "def Bayes(a, b, c):\n",
    "    return (c*b)/a;\n",
    "Bayes(pa,pb,pab)"
   ]
  },
  {
   "cell_type": "code",
   "execution_count": 17,
   "metadata": {},
   "outputs": [
    {
     "data": {
      "text/plain": [
       "0.36"
      ]
     },
     "execution_count": 17,
     "metadata": {},
     "output_type": "execute_result"
    }
   ],
   "source": [
    "#Question 2:\n",
    "pb1=0.5\n",
    "pb1=6/10.0\n",
    "\n",
    "def Prob(a, b):\n",
    "    return a*b\n",
    "Prob(pb1,pb1)"
   ]
  },
  {
   "cell_type": "code",
   "execution_count": 19,
   "metadata": {},
   "outputs": [
    {
     "data": {
      "text/plain": [
       "0.28571428571428564"
      ]
     },
     "execution_count": 19,
     "metadata": {},
     "output_type": "execute_result"
    }
   ],
   "source": [
    "#Question 3:\n",
    "ptrue= 2/3.0\n",
    "pfalse= 1-ptrue\n",
    "p4 = 1/6.0\n",
    "pnot4= 1-p4\n",
    "\n",
    "def probab(a, b, c, d):\n",
    "    return (a*c)/((a*c)+(b*d))\n",
    "probab(ptrue,pfalse,p4,pnot4)\n"
   ]
  }
 ],
 "metadata": {
  "kernelspec": {
   "display_name": "Python 3",
   "language": "python",
   "name": "python3"
  },
  "language_info": {
   "codemirror_mode": {
    "name": "ipython",
    "version": 3
   },
   "file_extension": ".py",
   "mimetype": "text/x-python",
   "name": "python",
   "nbconvert_exporter": "python",
   "pygments_lexer": "ipython3",
   "version": "3.6.5"
  }
 },
 "nbformat": 4,
 "nbformat_minor": 2
}
